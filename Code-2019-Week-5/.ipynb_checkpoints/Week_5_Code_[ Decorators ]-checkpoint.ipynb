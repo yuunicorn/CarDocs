{
 "cells": [
  {
   "cell_type": "markdown",
   "metadata": {},
   "source": [
    "## Decorators\n",
    "### Passing Functions to Other Functions"
   ]
  },
  {
   "cell_type": "code",
   "execution_count": 35,
   "metadata": {
    "scrolled": true
   },
   "outputs": [
    {
     "name": "stdout",
     "output_type": "stream",
     "text": [
      "<class 'builtin_function_or_method'>\n",
      "Hello World!\n"
     ]
    }
   ],
   "source": [
    "print(type(print))\n",
    "\n",
    "def prt(fun):\n",
    "    fun(\"Hello World!\")\n",
    "    \n",
    "prt(print)"
   ]
  },
  {
   "cell_type": "code",
   "execution_count": 42,
   "metadata": {},
   "outputs": [],
   "source": [
    "def decorator(original_func):\n",
    "    local_var = \"Hello\"\n",
    "    \n",
    "    def wrapper():\n",
    "        return \"{}, {}!\".format(local_var, original_func())\n",
    "    \n",
    "    return wrapper"
   ]
  },
  {
   "cell_type": "code",
   "execution_count": 43,
   "metadata": {},
   "outputs": [
    {
     "name": "stdout",
     "output_type": "stream",
     "text": [
      "world\n",
      "<function decorator.<locals>.wrapper at 0x11095dc80>\n",
      "Hello, world!\n"
     ]
    }
   ],
   "source": [
    "def our_func():\n",
    "    return \"world\"\n",
    "\n",
    "print(our_func())\n",
    "print(decorator(our_func))\n",
    "print(decorator(our_func)())"
   ]
  },
  {
   "cell_type": "code",
   "execution_count": 45,
   "metadata": {},
   "outputs": [
    {
     "name": "stdout",
     "output_type": "stream",
     "text": [
      "Hello, world!\n",
      "Hello, Hello, world!!\n"
     ]
    }
   ],
   "source": [
    "@decorator\n",
    "def our_func():\n",
    "    return \"world\"\n",
    "\n",
    "print(our_func())\n",
    "print(decorator(our_func)())"
   ]
  },
  {
   "cell_type": "markdown",
   "metadata": {},
   "source": [
    "## With arguments"
   ]
  },
  {
   "cell_type": "code",
   "execution_count": 64,
   "metadata": {},
   "outputs": [],
   "source": [
    "def say_hello(person):\n",
    "    local_var = \"Hello\"\n",
    "    \n",
    "    def wrapper(*args, **kwargs):\n",
    "        return \"{}, {}!\".format(local_var, person(*args, **kwargs))\n",
    "    \n",
    "    return wrapper"
   ]
  },
  {
   "cell_type": "code",
   "execution_count": 65,
   "metadata": {},
   "outputs": [],
   "source": [
    "@say_hello\n",
    "def print_person(name):\n",
    "    return name\n",
    "\n",
    "@say_hello\n",
    "def print_robot(name):\n",
    "    return \"R-{}\".format(name)"
   ]
  },
  {
   "cell_type": "code",
   "execution_count": 66,
   "metadata": {},
   "outputs": [
    {
     "name": "stdout",
     "output_type": "stream",
     "text": [
      "Hello, Elijah Baley!\n",
      "Hello, R-Sammy!\n"
     ]
    }
   ],
   "source": [
    "print(print_person(\"Elijah Baley\"))\n",
    "print(print_robot(\"Sammy\"))"
   ]
  },
  {
   "cell_type": "markdown",
   "metadata": {},
   "source": [
    "## Pass To Class"
   ]
  },
  {
   "cell_type": "code",
   "execution_count": 1,
   "metadata": {},
   "outputs": [],
   "source": [
    "class useless:\n",
    "    def __init__(self,func):\n",
    "        self.fn = func\n",
    "        \n",
    "    def __call__(self,*args,**kwargs):\n",
    "        print(\"Modifications\")\n",
    "        return self.fn(*args,**kwargs)"
   ]
  },
  {
   "cell_type": "code",
   "execution_count": 2,
   "metadata": {},
   "outputs": [],
   "source": [
    "@useless\n",
    "def old():\n",
    "    print(\"Old Stuff\")\n"
   ]
  },
  {
   "cell_type": "code",
   "execution_count": 3,
   "metadata": {},
   "outputs": [
    {
     "name": "stdout",
     "output_type": "stream",
     "text": [
      "Modifications\n",
      "Old Stuff\n"
     ]
    }
   ],
   "source": [
    "old()"
   ]
  },
  {
   "cell_type": "markdown",
   "metadata": {},
   "source": [
    "## Usefull example"
   ]
  },
  {
   "cell_type": "code",
   "execution_count": 6,
   "metadata": {},
   "outputs": [],
   "source": [
    "import datetime"
   ]
  },
  {
   "cell_type": "code",
   "execution_count": 9,
   "metadata": {},
   "outputs": [],
   "source": [
    "class ErrorLog:\n",
    "    filename = \"{}_{}\".format(__file__[:-3],datetime.datetime.today().date())\n",
    "    \n",
    "    def __init__(self,srcname=None):\n",
    "        self.srcname = srcname\n",
    "        \n",
    "    def __call__(fn,*args,**kwargs):\n",
    "        def wrapper(*args,**kwargs):\n",
    "            try:\n",
    "                return fn(*args,**kwargs)\n",
    "            except Exception as e:\n",
    "                with open(self.filename,\"a\") as f:\n",
    "                    f.write(\"-\"*26)\n",
    "                    f.write(\"\\n\")\n",
    "                    if self.srcname != None: \n",
    "                        f.write(\"Error at {} in {} function: {}()\\n\".format(\n",
    "                            datetime.datetime.today(),\n",
    "                            self.srcname,\n",
    "                            fn.__name__\n",
    "                        ))\n",
    "                    else:\n",
    "                        f.write(\"Error at {} in function: {}()\\n\".format(\n",
    "                            datetime.datetime.today(),\n",
    "                            fn.__name__\n",
    "                        ))\n",
    "                    f.write(e.__str__()+\"\\n\")\n",
    "                    f.write(\"-\"*20)\n",
    "                    f.write(\"\\n\")\n",
    "                        "
   ]
  },
  {
   "cell_type": "code",
   "execution_count": null,
   "metadata": {},
   "outputs": [],
   "source": []
  }
 ],
 "metadata": {
  "kernelspec": {
   "display_name": "Python 3",
   "language": "python",
   "name": "python3"
  },
  "language_info": {
   "codemirror_mode": {
    "name": "ipython",
    "version": 3
   },
   "file_extension": ".py",
   "mimetype": "text/x-python",
   "name": "python",
   "nbconvert_exporter": "python",
   "pygments_lexer": "ipython3",
   "version": "3.7.0"
  }
 },
 "nbformat": 4,
 "nbformat_minor": 2
}
