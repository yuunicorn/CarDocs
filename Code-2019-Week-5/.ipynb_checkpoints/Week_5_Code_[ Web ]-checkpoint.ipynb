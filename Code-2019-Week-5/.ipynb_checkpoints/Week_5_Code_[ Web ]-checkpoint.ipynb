{
 "cells": [
  {
   "cell_type": "markdown",
   "metadata": {},
   "source": [
    "## Requests\n"
   ]
  },
  {
   "cell_type": "code",
   "execution_count": 12,
   "metadata": {},
   "outputs": [],
   "source": [
    "import requests, json\n"
   ]
  },
  {
   "cell_type": "code",
   "execution_count": 13,
   "metadata": {},
   "outputs": [
    {
     "name": "stdout",
     "output_type": "stream",
     "text": [
      "<!DOCTYPE html>\n",
      "<html lang=\"no\" class=\"desktop\" data-basepath=\"/\">\n",
      "    <head>\n",
      "        <meta charset=\"utf-8\">\n",
      "        <meta id=\"serverTime\" data-offset=\"1\" data-time=\"2018-11-12 13:10:56\">\n",
      "        <meta http-equiv=\"X-UA-Compatible\" content=\"IE=Edge\"><script type=\"text/javascript\">window.NREUM||(NREUM={}),__nr_require=function(e,n,t){function r(t){if(!n[t]){var o=n[t]={exports:{}};e[t][0].call(o.exports,function(n){var o=e[t][1][n];return r(o||n)},o,o.exports)}return n[t].exports}if(\"function\"==typeof __nr_require)return __nr_require;for(var o=0;o<t.length;o++)r(t[o]);return r}({1:[function(e,n,t){function r(){}function o(e,n,t){return function(){return i(e,[c.now()].concat(u(arguments)),n?null:this,t),n?void 0:this}}var i=e(\"handle\"),a=e(3),u=e(4),f=e(\"ee\").get(\"tracer\"),c=e(\"loader\"),s=NREUM;\"undefined\"==typeof window.newrelic&&(newrelic=s);var p=[\"setPageViewName\",\"setCustomAttribute\",\"setErrorHandler\",\"finished\",\"addToTrace\",\"inlineHit\",\"addRelease\"],d=\"api-\",l=d+\"ixn-\";a(p,function(\n"
     ]
    }
   ],
   "source": [
    "url = \"http://vg.no\"\n",
    "print(requests.get(url).content.decode()[:1000])"
   ]
  },
  {
   "cell_type": "code",
   "execution_count": 17,
   "metadata": {},
   "outputs": [],
   "source": [
    "coordinates = {\n",
    "    \"Baker Street\":(51.523767,-0.1607444),\n",
    "    \"Priviet Drive\":(51.4110113, -2.6063299)   \n",
    "}\n",
    "\n",
    "url = \"https://data.police.uk/api/crimes-at-location?date={date}&lat={coor[0]}&lng={coor[1]}\""
   ]
  },
  {
   "cell_type": "code",
   "execution_count": 18,
   "metadata": {},
   "outputs": [
    {
     "name": "stdout",
     "output_type": "stream",
     "text": [
      "Baker Street Had 17 Incidents in 2018\n",
      "Priviet Drive Had 11 Incidents in 2018\n"
     ]
    }
   ],
   "source": [
    "\n",
    "for k,v in zip(coordinates.keys(),coordinates.values()):\n",
    "    inc = 0\n",
    "    for i in range(1,12):\n",
    "                response = requests.get(url.format(date=\"2018-{:02d}\".format(i),coor=v)).content.decode()\n",
    "                if response != \"[]\" and response != \"\":\n",
    "                          inc += len(json.loads(response))\n",
    "    print(k,\"Had\",inc,\"Incidents in 2018\")\n",
    "                                                "
   ]
  },
  {
   "cell_type": "code",
   "execution_count": 39,
   "metadata": {},
   "outputs": [
    {
     "name": "stdout",
     "output_type": "stream",
     "text": [
      "<class 'str'>\n",
      "<class 'list'>\n",
      "<class 'dict'>\n",
      "{'category': 'burglary', 'location_type': 'Force', 'location': {'latitude': '51.523689', 'street': {'id': 960420, 'name': 'On or near Chagford Street'}, 'longitude': '-0.159880'}, 'context': '', 'outcome_status': {'category': 'Awaiting court outcome', 'date': '2018-07'}, 'persistent_id': '8054f4684018ee0593ae4beddf8cd3d7dd58081d963e8baedbfc43eb25ae80fa', 'id': 66693364, 'location_subtype': '', 'month': '2018-07'}\n",
      "{'category': 'burglary', 'location_type': 'Force', 'location': {'latitude': '51.523689', 'street': {'id': 960420, 'name': 'On or near Chagford Street'}, 'longitude': '-0.159880'}, 'context': '', 'outcome_status': {'category': 'Under investigation', 'date': '2018-07'}, 'persistent_id': '4e361baf503096ddb997eb9b07833f1cd439dac9f96c71875e613522efab874f', 'id': 66681834, 'location_subtype': '', 'month': '2018-07'}\n"
     ]
    },
    {
     "data": {
      "text/plain": [
       "[None, None]"
      ]
     },
     "execution_count": 39,
     "metadata": {},
     "output_type": "execute_result"
    }
   ],
   "source": [
    "j = url.format(date=\"2018-{:02d}\".format(7),coor=(51.523767,-0.1607444))\n",
    "\n",
    "js = json.loads(requests.get(j).content.decode())\n",
    "\n",
    "print(type(j))\n",
    "print(type(js))\n",
    "print(type(js[0]))\n",
    "\n",
    "[print(i) for i in js]\n"
   ]
  },
  {
   "cell_type": "markdown",
   "metadata": {},
   "source": [
    "## Flask"
   ]
  },
  {
   "cell_type": "code",
   "execution_count": 57,
   "metadata": {},
   "outputs": [],
   "source": [
    "from flask import Flask, render_template, request\n",
    "\n",
    "app = Flask(__name__)\n",
    "\n",
    "@app.route(\"/\")\n",
    "def home():\n",
    "    return render_template(\"index.html\")"
   ]
  },
  {
   "cell_type": "code",
   "execution_count": 58,
   "metadata": {},
   "outputs": [],
   "source": [
    "@app.route(\"/<name>\")\n",
    "def hello(name):\n",
    "    return render_template(\"name.html\",name=name)"
   ]
  },
  {
   "cell_type": "code",
   "execution_count": 59,
   "metadata": {},
   "outputs": [],
   "source": [
    "@app.route(\"/proxy/<site>/<ext>\", methods=[\"POST\",\"GET\"])\n",
    "def prox(site,ext):\n",
    "    if request.method == \"GET\":\n",
    "        a = \"\"\n",
    "        with open(\"Posted_Content.db\", \"r\") as f:\n",
    "            txt = f.read(1024)\n",
    "            print(txt)\n",
    "            split = txt.split(\"\\n\")\n",
    "            split = [\"<div>{}</div>\".format(i) for i in split]\n",
    "            for i in split:\n",
    "                a += i\n",
    "        return a\n",
    "    else:\n",
    "        with open(\"Posted_Content.db\",\"a\") as f:\n",
    "            print(request.form.keys())\n",
    "            data = [\"{} -> {}:{}\\n\".format(site,i,x) for i,x in zip(request.form.keys(),request.form.values())]\n",
    "            print(data)\n",
    "            f.write(\"\".join(data))\n",
    "        return \"<h1>Success!</h1>\""
   ]
  },
  {
   "cell_type": "code",
   "execution_count": 60,
   "metadata": {},
   "outputs": [],
   "source": [
    "@app.route(\"/login\",methods=[\"GET\",\"POST\"])\n",
    "def login():\n",
    "    if request.method == \"POST\":\n",
    "        [print(i,x) for i,x in zip(request.form.keys(), request.form.values())]\n",
    "    return render_template(\"login.html\")"
   ]
  },
  {
   "cell_type": "code",
   "execution_count": 61,
   "metadata": {},
   "outputs": [],
   "source": [
    "@app.route(\"/var\")\n",
    "def var():\n",
    "    return render_template(\"var.html\",name=\"Hello World\")"
   ]
  },
  {
   "cell_type": "code",
   "execution_count": 62,
   "metadata": {},
   "outputs": [],
   "source": [
    "@app.route(\"/template\")\n",
    "def temp():\n",
    "    return render_template(\"fromtmp.html\",title=\"Template\")"
   ]
  },
  {
   "cell_type": "code",
   "execution_count": null,
   "metadata": {},
   "outputs": [
    {
     "name": "stdout",
     "output_type": "stream",
     "text": [
      " * Serving Flask app \"__main__\" (lazy loading)\n",
      " * Environment: production\n",
      "   WARNING: Do not use the development server in a production environment.\n",
      "   Use a production WSGI server instead.\n",
      " * Debug mode: off\n"
     ]
    },
    {
     "name": "stderr",
     "output_type": "stream",
     "text": [
      "127.0.0.1 - - [12/Nov/2018 13:42:51] \"\u001b[37mGET /template HTTP/1.1\u001b[0m\" 200 -\n",
      "127.0.0.1 - - [12/Nov/2018 13:42:51] \"\u001b[33mGET /static/style.css HTTP/1.1\u001b[0m\" 404 -\n",
      "127.0.0.1 - - [12/Nov/2018 13:42:51] \"\u001b[37mGET /favicon.ico HTTP/1.1\u001b[0m\" 200 -\n"
     ]
    }
   ],
   "source": [
    "app.run(port=8080)"
   ]
  },
  {
   "cell_type": "code",
   "execution_count": null,
   "metadata": {},
   "outputs": [],
   "source": []
  }
 ],
 "metadata": {
  "kernelspec": {
   "display_name": "Python 3",
   "language": "python",
   "name": "python3"
  },
  "language_info": {
   "codemirror_mode": {
    "name": "ipython",
    "version": 3
   },
   "file_extension": ".py",
   "mimetype": "text/x-python",
   "name": "python",
   "nbconvert_exporter": "python",
   "pygments_lexer": "ipython3",
   "version": "3.7.0"
  }
 },
 "nbformat": 4,
 "nbformat_minor": 2
}
