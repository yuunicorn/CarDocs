{
 "cells": [
  {
   "cell_type": "markdown",
   "metadata": {},
   "source": [
    "## Threads\n"
   ]
  },
  {
   "cell_type": "code",
   "execution_count": 1,
   "metadata": {},
   "outputs": [],
   "source": [
    "import threading\n",
    "import time, numpy"
   ]
  },
  {
   "cell_type": "code",
   "execution_count": 2,
   "metadata": {},
   "outputs": [],
   "source": [
    "def Hello(i):\n",
    "    print(\"Hello! from {}\".format(i))"
   ]
  },
  {
   "cell_type": "code",
   "execution_count": 3,
   "metadata": {},
   "outputs": [
    {
     "name": "stdout",
     "output_type": "stream",
     "text": [
      "Hello! from 0\n",
      "Hello! from 1\n",
      "Hello! from 2\n",
      "Hello! from 3\n",
      "Hello! from 4\n",
      "Hello! from 5\n",
      "Hello! from 6\n",
      "Hello! from 7\n",
      "Hello! from 8\n",
      "Hello! from 9\n"
     ]
    },
    {
     "data": {
      "text/plain": [
       "[None, None, None, None, None, None, None, None, None, None]"
      ]
     },
     "execution_count": 3,
     "metadata": {},
     "output_type": "execute_result"
    }
   ],
   "source": [
    "threads = []\n",
    "for i in range(10):\n",
    "    n = threading.Thread(target=Hello,args=(i,))\n",
    "    threads.append(n)\n",
    "\n",
    "[n.start() for n in threads]\n",
    "[n.join() for n in threads]"
   ]
  },
  {
   "cell_type": "code",
   "execution_count": 4,
   "metadata": {},
   "outputs": [],
   "source": [
    "def Hello2(i):\n",
    "    time.sleep(numpy.random.randint(0,3))\n",
    "    print(\"Hello! from {}\".format(i))"
   ]
  },
  {
   "cell_type": "code",
   "execution_count": 5,
   "metadata": {},
   "outputs": [
    {
     "name": "stdout",
     "output_type": "stream",
     "text": [
      "Hello! from 1\n",
      "Hello! from 6\n",
      "Hello! from 8\n",
      "Hello! from 7\n",
      "Hello! from 2Hello! from 5\n",
      "Hello! from 4\n",
      "Hello! from 9\n",
      "Hello! from 3\n",
      "\n",
      "Hello! from 0\n"
     ]
    },
    {
     "data": {
      "text/plain": [
       "[None, None, None, None, None, None, None, None, None, None]"
      ]
     },
     "execution_count": 5,
     "metadata": {},
     "output_type": "execute_result"
    }
   ],
   "source": [
    "threads = []\n",
    "for i in range(10):\n",
    "    n = threading.Thread(target=Hello2,args=(i,))\n",
    "    threads.append(n)\n",
    "\n",
    "\n",
    "[n.start() for n in threads]\n",
    "[n.join() for n in threads]"
   ]
  },
  {
   "cell_type": "code",
   "execution_count": 6,
   "metadata": {},
   "outputs": [],
   "source": [
    "names = (\"Bob\",\"Alice\",\"Siri\",\"James\",\"Jhon\")"
   ]
  },
  {
   "cell_type": "code",
   "execution_count": 7,
   "metadata": {},
   "outputs": [],
   "source": [
    "def Hello3():\n",
    "    time.sleep(numpy.random.randint(0,3))\n",
    "    print(\"Hello! from {}\".format(threading.current_thread().name))"
   ]
  },
  {
   "cell_type": "code",
   "execution_count": 8,
   "metadata": {},
   "outputs": [
    {
     "name": "stdout",
     "output_type": "stream",
     "text": [
      "Hello! from Bob\n",
      "Hello! from AliceHello! from Jhon\n",
      "\n",
      "Hello! from SiriHello! from James\n",
      "\n"
     ]
    },
    {
     "data": {
      "text/plain": [
       "[None, None, None, None, None]"
      ]
     },
     "execution_count": 8,
     "metadata": {},
     "output_type": "execute_result"
    }
   ],
   "source": [
    "threads = []\n",
    "for i in names:\n",
    "    n = threading.Thread(target=Hello3,name=i)\n",
    "    threads.append(n)\n",
    "\n",
    "[n.start() for n in threads]\n",
    "[n.join() for n in threads]"
   ]
  },
  {
   "cell_type": "code",
   "execution_count": 9,
   "metadata": {},
   "outputs": [],
   "source": [
    "class MyThread(threading.Thread):\n",
    "    def __init__(self, name, id, fn, *args, **kwargs):\n",
    "        threading.Thread.__init__(self)\n",
    "        self._name = name\n",
    "        self._target = fn\n",
    "        self._args = args\n",
    "        self._args += (id,)\n",
    "        self._kwargs = kwargs"
   ]
  },
  {
   "cell_type": "code",
   "execution_count": 10,
   "metadata": {},
   "outputs": [
    {
     "name": "stdout",
     "output_type": "stream",
     "text": [
      "Hello! from 1\n"
     ]
    }
   ],
   "source": [
    "a = MyThread(\"Hello1\",1,Hello)\n",
    "a.start()"
   ]
  },
  {
   "cell_type": "code",
   "execution_count": 14,
   "metadata": {},
   "outputs": [
    {
     "name": "stdout",
     "output_type": "stream",
     "text": [
      "Hello! from 2\n"
     ]
    }
   ],
   "source": [
    "a = MyThread(\"Hello2\",2,Hello2)\n",
    "a.start()"
   ]
  },
  {
   "cell_type": "code",
   "execution_count": 18,
   "metadata": {},
   "outputs": [],
   "source": [
    "class MyThread2(threading.Thread):\n",
    "    def __init__(self, name, id, fn, *args, **kwargs):\n",
    "        threading.Thread.__init__(self)\n",
    "        self._name = name\n",
    "        self._target = fn\n",
    "        self._args = args\n",
    "        self._args += (id,)\n",
    "        self._kwargs = kwargs\n",
    "\n",
    "    def run(self):\n",
    "        print(\"I refuse to do your Bidding Master!\")\n",
    "        self._target(*self._args, **self._kwargs)\n",
    "        print(\"Noooooooooooo!\")"
   ]
  },
  {
   "cell_type": "code",
   "execution_count": 19,
   "metadata": {},
   "outputs": [
    {
     "name": "stdout",
     "output_type": "stream",
     "text": [
      "I refuse to do your Bidding Master!\n",
      "Hello! from 1\n",
      "Noooooooooooo!\n"
     ]
    }
   ],
   "source": [
    "a = MyThread2(\"Hello\",1,Hello)\n",
    "a.start()"
   ]
  },
  {
   "cell_type": "markdown",
   "metadata": {},
   "source": [
    "## Sockets"
   ]
  },
  {
   "cell_type": "code",
   "execution_count": 41,
   "metadata": {},
   "outputs": [],
   "source": [
    "from socket import *\n",
    "\n",
    "ip = \"127.0.0.1\"\n",
    "port = 8199"
   ]
  },
  {
   "cell_type": "code",
   "execution_count": 42,
   "metadata": {},
   "outputs": [
    {
     "name": "stdout",
     "output_type": "stream",
     "text": [
      "(<socket.socket fd=54, family=AddressFamily.AF_INET, type=SocketKind.SOCK_STREAM, proto=0, laddr=('127.0.0.1', 8199), raddr=('127.0.0.1', 58172)>, ('127.0.0.1', 58172))\n"
     ]
    },
    {
     "ename": "NameError",
     "evalue": "name 'cls' is not defined",
     "output_type": "error",
     "traceback": [
      "\u001b[0;31m---------------------------------------------------------------------------\u001b[0m",
      "\u001b[0;31mNameError\u001b[0m                                 Traceback (most recent call last)",
      "\u001b[0;32m<ipython-input-42-3cb3356bf1cc>\u001b[0m in \u001b[0;36m<module>\u001b[0;34m()\u001b[0m\n\u001b[1;32m     10\u001b[0m \u001b[0mmsg\u001b[0m\u001b[0;34m=\u001b[0m\u001b[0;34m\"\"\u001b[0m\u001b[0;34m\u001b[0m\u001b[0m\n\u001b[1;32m     11\u001b[0m \u001b[0;32mwhile\u001b[0m \u001b[0mmsg\u001b[0m \u001b[0;34m!=\u001b[0m \u001b[0;34m\"exit()\"\u001b[0m\u001b[0;34m:\u001b[0m\u001b[0;34m\u001b[0m\u001b[0m\n\u001b[0;32m---> 12\u001b[0;31m     \u001b[0mmsg\u001b[0m \u001b[0;34m=\u001b[0m \u001b[0mcls\u001b[0m\u001b[0;34m.\u001b[0m\u001b[0mrecv\u001b[0m\u001b[0;34m(\u001b[0m\u001b[0;36m1024\u001b[0m\u001b[0;34m)\u001b[0m\u001b[0;34m\u001b[0m\u001b[0m\n\u001b[0m\u001b[1;32m     13\u001b[0m     \u001b[0mprint\u001b[0m\u001b[0;34m(\u001b[0m\u001b[0mmsg\u001b[0m\u001b[0;34m)\u001b[0m\u001b[0;34m\u001b[0m\u001b[0m\n\u001b[1;32m     14\u001b[0m \u001b[0;34m\u001b[0m\u001b[0m\n",
      "\u001b[0;31mNameError\u001b[0m: name 'cls' is not defined"
     ]
    }
   ],
   "source": [
    "ss = socket(AF_INET,SOCK_STREAM)\n",
    "\n",
    "ss.bind((ip,port))\n",
    "\n",
    "ss.listen(5)\n",
    "\n",
    "cls, addr = ss.accept()\n",
    "print(resp)\n",
    "\n",
    "msg=\"\"\n",
    "while msg != \"exit()\":\n",
    "    msg = cls.recv(1024)\n",
    "    print(msg)\n",
    "    \n",
    "ss.close()"
   ]
  },
  {
   "cell_type": "code",
   "execution_count": null,
   "metadata": {},
   "outputs": [],
   "source": [
    "s = socket(AF_INET,SOCK_STREAM)\n",
    "s.connect((ip,port))\n",
    "s.send(\"Hello\".encode())\n",
    "s.send(\"exit()\".encode())"
   ]
  },
  {
   "cell_type": "code",
   "execution_count": null,
   "metadata": {},
   "outputs": [],
   "source": []
  }
 ],
 "metadata": {
  "kernelspec": {
   "display_name": "Python 3",
   "language": "python",
   "name": "python3"
  },
  "language_info": {
   "codemirror_mode": {
    "name": "ipython",
    "version": 3
   },
   "file_extension": ".py",
   "mimetype": "text/x-python",
   "name": "python",
   "nbconvert_exporter": "python",
   "pygments_lexer": "ipython3",
   "version": "3.7.0"
  }
 },
 "nbformat": 4,
 "nbformat_minor": 2
}
