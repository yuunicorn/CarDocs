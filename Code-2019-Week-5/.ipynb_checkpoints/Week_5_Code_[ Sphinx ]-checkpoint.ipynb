{
 "cells": [
  {
   "cell_type": "markdown",
   "metadata": {},
   "source": [
    "## Sphinx\n",
    "<a href=\"https://prg-week5.readthedocs.io/en/latest/\">Read the Docs Doceumntation</a>"
   ]
  },
  {
   "cell_type": "code",
   "execution_count": 5,
   "metadata": {},
   "outputs": [],
   "source": [
    "\"\"\"\n",
    "+---------------+-------------+\n",
    "| Making a table| Stuff in it |\n",
    "+---------------+-------------+\n",
    "| 1.            | Part 1      |\n",
    "+---------------+-------------+\n",
    "| 2.            | Part 2      |\n",
    "+---------------+-------------+\n",
    "\"\"\"\n",
    "\n",
    "import requests\n",
    "import json\n",
    "\n",
    "class Street:\n",
    "    \"\"\"\n",
    "    Class that holds the methods and the variables for the street that is beeing searched.\n",
    "    \n",
    "    :var int incidents: the incident counter.\n",
    "    :var str url: holds the API url\n",
    "    \"\"\"\n",
    "    #: incidents is set to 0\n",
    "    incidents = 0\n",
    "    url = \"https://data.police.uk/api/crimes-at-location?date={date}&lat={coor[0]}&lng={coor[1]}\"\n",
    "\n",
    "    def __init__(self):\n",
    "        self.name=\"\"\n",
    "        self.coor=[]\n",
    "\n",
    "    def get_incedents_year(self):\n",
    "        \"\"\"\n",
    "        | The incident gatherer.\n",
    "        | It increments **incidents** for every month of the year.\n",
    "        \n",
    "        :param self: to use local variables\n",
    "        :type self: Street\n",
    "        \"\"\"\n",
    "        for i in range(1,12):\n",
    "            response = requests.get(self.url.format(date=\"2018-{:02d}\".format(i),coor=self.coor)).content.decode()\n",
    "            if response != \"[]\" and response != \"\":\n",
    "                     self.incidents += len(json.loads(response))\n",
    "\n",
    "    def __str__(self):\n",
    "        \"\"\"\n",
    "        .. warning:: this only returns a string for the print function, it does not print the object.\n",
    "        \n",
    "        :return: The string to be printed when printing the class.\n",
    "        :rtype: str\n",
    "        \"\"\"\n",
    "\n",
    "        return \"\"\"{} has {} incidents the year of 2018\"\"\".format(self.name,self.incidents)\n"
   ]
  },
  {
   "cell_type": "code",
   "execution_count": 6,
   "metadata": {},
   "outputs": [],
   "source": [
    "class BakerStreet(Street):\n",
    "\n",
    "    def __init__(self, **kwargs):\n",
    "        \"\"\"\n",
    "        The constructor.\n",
    "        \n",
    "        :param name: The name of the street\n",
    "        :type name: str\n",
    "        \n",
    "        :param coor: can take a coordinate\n",
    "        :type coor: tuple\n",
    "        \"\"\"\n",
    "        Street.__init__(self)\n",
    "        self.name = \"221 Baker Street\"\n",
    "        self.coor = (51.523767,-0.1607444)\n",
    "        self.incidents = 0"
   ]
  },
  {
   "cell_type": "code",
   "execution_count": 7,
   "metadata": {},
   "outputs": [],
   "source": [
    "class PrivetDrive(Street):\n",
    "\n",
    "    def __init__(self, **kwargs):\n",
    "        \"\"\"\n",
    "        The constructor.\n",
    "        \n",
    "        :param name: The name of the street\n",
    "        :type name: str\n",
    "        \n",
    "        :param coor: can take a coordinate\n",
    "        :type coor: tuple\n",
    "        \n",
    "        \"\"\"\n",
    "        Street.__init__(self)\n",
    "        self.name = \"4 Privet Drive\"\n",
    "        self.coor = (51.4110113, -2.6063299)\n",
    "        self.incidents = 0\n"
   ]
  },
  {
   "cell_type": "code",
   "execution_count": 8,
   "metadata": {},
   "outputs": [
    {
     "name": "stdout",
     "output_type": "stream",
     "text": [
      "221 Baker Street has 17 incidents the year of 2018\n",
      "4 Privet Drive has 11 incidents the year of 2018\n"
     ]
    },
    {
     "data": {
      "text/plain": [
       "[None, None]"
      ]
     },
     "execution_count": 8,
     "metadata": {},
     "output_type": "execute_result"
    }
   ],
   "source": [
    "\n",
    "\n",
    "def get_all_Incedents():\n",
    "    \"\"\"\n",
    "    Gets the incodents for all streets\n",
    "    \n",
    "    :return streets: Street objects with all incidents counted.\n",
    "    :rtype: tuple\n",
    "    \"\"\"\n",
    "    a = BakerStreet()\n",
    "    b = PrivetDrive()\n",
    "    a.get_incedents_year()\n",
    "    b.get_incedents_year()\n",
    "    return a,b\n",
    "\n",
    "\n",
    "[print(i) for i in get_all_Incedents()]"
   ]
  },
  {
   "cell_type": "code",
   "execution_count": null,
   "metadata": {},
   "outputs": [],
   "source": []
  }
 ],
 "metadata": {
  "kernelspec": {
   "display_name": "Python 3",
   "language": "python",
   "name": "python3"
  },
  "language_info": {
   "codemirror_mode": {
    "name": "ipython",
    "version": 3
   },
   "file_extension": ".py",
   "mimetype": "text/x-python",
   "name": "python",
   "nbconvert_exporter": "python",
   "pygments_lexer": "ipython3",
   "version": "3.7.0"
  }
 },
 "nbformat": 4,
 "nbformat_minor": 2
}
